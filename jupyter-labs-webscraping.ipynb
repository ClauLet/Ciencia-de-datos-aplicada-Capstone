{
 "cells": [
  {
   "cell_type": "markdown",
   "metadata": {},
   "source": [
    "<p style=\"text-align:center\">\n",
    "    <a href=\"https://skills.network\" target=\"_blank\">\n",
    "    <img src=\"https://cf-courses-data.s3.us.cloud-object-storage.appdomain.cloud/assets/logos/SN_web_lightmode.png\" width=\"200\" alt=\"Skills Network Logo\">\n",
    "    </a>\n",
    "</p>\n"
   ]
  },
  {
   "cell_type": "markdown",
   "metadata": {},
   "source": [
    "# **Space X  Falcon 9 First Stage Landing Prediction**\n"
   ]
  },
  {
   "cell_type": "markdown",
   "metadata": {},
   "source": [
    "## Web scraping Falcon 9 and Falcon Heavy Launches Records from Wikipedia\n"
   ]
  },
  {
   "cell_type": "markdown",
   "metadata": {},
   "source": [
    "In this lab, you will be performing web scraping to collect Falcon 9 historical launch records from a Wikipedia page titled `List of Falcon 9 and Falcon Heavy launches`\n",
    "\n",
    "https://en.wikipedia.org/wiki/List_of_Falcon_9_and_Falcon_Heavy_launches\n"
   ]
  },
  {
   "cell_type": "markdown",
   "metadata": {},
   "source": [
    "![](https://cf-courses-data.s3.us.cloud-object-storage.appdomain.cloud/IBM-DS0321EN-SkillsNetwork/labs/module_1_L2/images/Falcon9_rocket_family.svg)\n"
   ]
  },
  {
   "cell_type": "markdown",
   "metadata": {},
   "source": [
    "Falcon 9 first stage will land successfully\n"
   ]
  },
  {
   "cell_type": "markdown",
   "metadata": {},
   "source": [
    "![](https://cf-courses-data.s3.us.cloud-object-storage.appdomain.cloud/IBMDeveloperSkillsNetwork-DS0701EN-SkillsNetwork/api/Images/landing_1.gif)\n"
   ]
  },
  {
   "cell_type": "markdown",
   "metadata": {},
   "source": [
    "Several examples of an unsuccessful landing are shown here:\n"
   ]
  },
  {
   "cell_type": "markdown",
   "metadata": {},
   "source": [
    "![](https://cf-courses-data.s3.us.cloud-object-storage.appdomain.cloud/IBMDeveloperSkillsNetwork-DS0701EN-SkillsNetwork/api/Images/crash.gif)\n"
   ]
  },
  {
   "cell_type": "markdown",
   "metadata": {},
   "source": [
    "More specifically, the launch records are stored in a HTML table shown below:\n"
   ]
  },
  {
   "cell_type": "markdown",
   "metadata": {},
   "source": [
    "![](https://cf-courses-data.s3.us.cloud-object-storage.appdomain.cloud/IBM-DS0321EN-SkillsNetwork/labs/module_1_L2/images/falcon9-launches-wiki.png)\n"
   ]
  },
  {
   "cell_type": "markdown",
   "metadata": {},
   "source": [
    "  ## Objectives\n",
    "Web scrap Falcon 9 launch records with `BeautifulSoup`: \n",
    "- Extract a Falcon 9 launch records HTML table from Wikipedia\n",
    "- Parse the table and convert it into a Pandas data frame\n"
   ]
  },
  {
   "cell_type": "markdown",
   "metadata": {},
   "source": [
    "First let's import required packages for this lab\n"
   ]
  },
  {
   "cell_type": "code",
   "execution_count": 1,
   "metadata": {
    "tags": []
   },
   "outputs": [
    {
     "name": "stdout",
     "output_type": "stream",
     "text": [
      "Requirement already satisfied: beautifulsoup4 in /home/jupyterlab/conda/envs/python/lib/python3.7/site-packages (4.11.1)\n",
      "Requirement already satisfied: soupsieve>1.2 in /home/jupyterlab/conda/envs/python/lib/python3.7/site-packages (from beautifulsoup4) (2.3.2.post1)\n",
      "Requirement already satisfied: requests in /home/jupyterlab/conda/envs/python/lib/python3.7/site-packages (2.29.0)\n",
      "Requirement already satisfied: charset-normalizer<4,>=2 in /home/jupyterlab/conda/envs/python/lib/python3.7/site-packages (from requests) (3.1.0)\n",
      "Requirement already satisfied: idna<4,>=2.5 in /home/jupyterlab/conda/envs/python/lib/python3.7/site-packages (from requests) (3.4)\n",
      "Requirement already satisfied: urllib3<1.27,>=1.21.1 in /home/jupyterlab/conda/envs/python/lib/python3.7/site-packages (from requests) (1.26.15)\n",
      "Requirement already satisfied: certifi>=2017.4.17 in /home/jupyterlab/conda/envs/python/lib/python3.7/site-packages (from requests) (2023.5.7)\n"
     ]
    }
   ],
   "source": [
    "!pip3 install beautifulsoup4\n",
    "!pip3 install requests"
   ]
  },
  {
   "cell_type": "code",
   "execution_count": 2,
   "metadata": {
    "tags": []
   },
   "outputs": [],
   "source": [
    "import sys\n",
    "\n",
    "import requests\n",
    "from bs4 import BeautifulSoup\n",
    "import re\n",
    "import unicodedata\n",
    "import pandas as pd"
   ]
  },
  {
   "cell_type": "markdown",
   "metadata": {},
   "source": [
    "and we will provide some helper functions for you to process web scraped HTML table\n"
   ]
  },
  {
   "cell_type": "code",
   "execution_count": 3,
   "metadata": {
    "tags": []
   },
   "outputs": [],
   "source": [
    "def date_time(table_cells):\n",
    "    \"\"\"\n",
    "    This function returns the data and time from the HTML  table cell\n",
    "    Input: the  element of a table data cell extracts extra row\n",
    "    \"\"\"\n",
    "    return [data_time.strip() for data_time in list(table_cells.strings)][0:2]\n",
    "\n",
    "def booster_version(table_cells):\n",
    "    \"\"\"\n",
    "    This function returns the booster version from the HTML  table cell \n",
    "    Input: the  element of a table data cell extracts extra row\n",
    "    \"\"\"\n",
    "    out=''.join([booster_version for i,booster_version in enumerate( table_cells.strings) if i%2==0][0:-1])\n",
    "    return out\n",
    "\n",
    "def landing_status(table_cells):\n",
    "    \"\"\"\n",
    "    This function returns the landing status from the HTML table cell \n",
    "    Input: the  element of a table data cell extracts extra row\n",
    "    \"\"\"\n",
    "    out=[i for i in table_cells.strings][0]\n",
    "    return out\n",
    "\n",
    "\n",
    "def get_mass(table_cells):\n",
    "    mass=unicodedata.normalize(\"NFKD\", table_cells.text).strip()\n",
    "    if mass:\n",
    "        mass.find(\"kg\")\n",
    "        new_mass=mass[0:mass.find(\"kg\")+2]\n",
    "    else:\n",
    "        new_mass=0\n",
    "    return new_mass\n",
    "\n",
    "\n",
    "def extract_column_from_header(row):\n",
    "    \"\"\"\n",
    "    This function returns the landing status from the HTML table cell \n",
    "    Input: the  element of a table data cell extracts extra row\n",
    "    \"\"\"\n",
    "    if (row.br):\n",
    "        row.br.extract()\n",
    "    if row.a:\n",
    "        row.a.extract()\n",
    "    if row.sup:\n",
    "        row.sup.extract()\n",
    "        \n",
    "    colunm_name = ' '.join(row.contents)\n",
    "    \n",
    "    # Filter the digit and empty names\n",
    "    if not(colunm_name.strip().isdigit()):\n",
    "        colunm_name = colunm_name.strip()\n",
    "        return colunm_name    \n"
   ]
  },
  {
   "cell_type": "markdown",
   "metadata": {},
   "source": [
    "To keep the lab tasks consistent, you will be asked to scrape the data from a snapshot of the  `List of Falcon 9 and Falcon Heavy launches` Wikipage updated on\n",
    "`9th June 2021`\n"
   ]
  },
  {
   "cell_type": "code",
   "execution_count": 4,
   "metadata": {
    "tags": []
   },
   "outputs": [],
   "source": [
    "static_url = \"https://en.wikipedia.org/w/index.php?title=List_of_Falcon_9_and_Falcon_Heavy_launches&oldid=1027686922\""
   ]
  },
  {
   "cell_type": "markdown",
   "metadata": {},
   "source": [
    "Next, request the HTML page from the above URL and get a `response` object\n"
   ]
  },
  {
   "cell_type": "markdown",
   "metadata": {},
   "source": [
    "### TASK 1: Request the Falcon9 Launch Wiki page from its URL\n"
   ]
  },
  {
   "cell_type": "markdown",
   "metadata": {},
   "source": [
    "First, let's perform an HTTP GET method to request the Falcon9 Launch HTML page, as an HTTP response.\n"
   ]
  },
  {
   "cell_type": "code",
   "execution_count": 7,
   "metadata": {
    "tags": []
   },
   "outputs": [],
   "source": [
    "# use requests.get() method with the provided static_url\n",
    "# assign the response to a object\n",
    "\n",
    "import requests\n",
    "response = requests.get(static_url)\n",
    "\n"
   ]
  },
  {
   "cell_type": "markdown",
   "metadata": {},
   "source": [
    "Create a `BeautifulSoup` object from the HTML `response`\n"
   ]
  },
  {
   "cell_type": "code",
   "execution_count": 8,
   "metadata": {
    "tags": []
   },
   "outputs": [],
   "source": [
    "# Use BeautifulSoup() to create a BeautifulSoup object from a response text content\n",
    "from bs4 import BeautifulSoup\n",
    "soup = BeautifulSoup(response.text, 'html.parser')\n",
    "\n",
    "\n"
   ]
  },
  {
   "cell_type": "markdown",
   "metadata": {},
   "source": [
    "Print the page title to verify if the `BeautifulSoup` object was created properly \n"
   ]
  },
  {
   "cell_type": "code",
   "execution_count": 9,
   "metadata": {
    "tags": []
   },
   "outputs": [
    {
     "data": {
      "text/plain": [
       "<title>Analog Trip - Wikipedia</title>"
      ]
     },
     "execution_count": 9,
     "metadata": {},
     "output_type": "execute_result"
    }
   ],
   "source": [
    "# Use soup.title attribute\n",
    "soup.title\n"
   ]
  },
  {
   "cell_type": "markdown",
   "metadata": {},
   "source": [
    "### TASK 2: Extract all column/variable names from the HTML table header\n"
   ]
  },
  {
   "cell_type": "markdown",
   "metadata": {},
   "source": [
    "Next, we want to collect all relevant column names from the HTML table header\n"
   ]
  },
  {
   "cell_type": "markdown",
   "metadata": {},
   "source": [
    "Let's try to find all tables on the wiki page first. If you need to refresh your memory about `BeautifulSoup`, please check the external reference link towards the end of this lab\n"
   ]
  },
  {
   "cell_type": "code",
   "execution_count": 12,
   "metadata": {
    "tags": []
   },
   "outputs": [
    {
     "name": "stdout",
     "output_type": "stream",
     "text": [
      "Cantidad de tablas encontradas: 2\n",
      "\n",
      "Tabla 0\n",
      "<table class=\"wikitable plainrowheaders wikiepisodetable\" style=\"width:100%\">\n",
      " <tbody>\n",
      "  <tr style=\"color:white;text-align:center\">\n",
      "   <th scope=\"col\" style=\"background:#733635;width:5%;color:white\">\n",
      "    <abbr title=\"Number\">\n",
      "     No.\n",
      "    </abbr>\n",
      "   </th>\n",
      "   <th scope=\"col\" style=\"background:#733635;width:30%;color:white\">\n",
      "    Title\n",
      "   </th>\n",
      "   <th scope=\"col\" style=\"background:#733635;width:20%;color:white\">\n",
      "    Directed by\n",
      "   </th>\n",
      "   <th scope=\"col\" style=\"background:#733635;width:15%;color:w\n",
      "\n",
      "Tabla 1\n",
      "<table class=\"wikitable plainrowheaders wikiepisodetable\" style=\"width:100%\">\n",
      " <tbody>\n",
      "  <tr style=\"color:white;text-align:center\">\n",
      "   <th scope=\"col\" style=\"background:#B50000;width:35%;color:white\">\n",
      "    Title\n",
      "   </th>\n",
      "   <th scope=\"col\" style=\"background:#B50000;width:20%;color:white\">\n",
      "    Directed by\n",
      "   </th>\n",
      "   <th scope=\"col\" style=\"background:#B50000;width:30%;color:white\">\n",
      "    Original release date\n",
      "   </th>\n",
      "  </tr>\n",
      "  <tr class=\"vevent module-episode-list-row\" style=\"text-align:center;back\n"
     ]
    }
   ],
   "source": [
    "# Use the find_all function in the BeautifulSoup object, with element type `table`\n",
    "# Assign the result to a list called `html_tables`\n",
    "\n",
    "print(f\"Cantidad de tablas encontradas: {len(html_tables)}\")\n",
    "\n",
    "for i, table in enumerate(html_tables):\n",
    "    print(f\"\\nTabla {i}\")\n",
    "    print(table.prettify()[:500])  # mostrar solo los primeros 500 caracteres para no saturar la salida\n",
    "\n",
    "\n",
    "\n",
    "# Usar find_all con el tag 'table' y clase 'wikitable' para obtener todas las tablas\n",
    "html_tables = soup.find_all(\"table\", {\"class\": \"wikitable\"})\n",
    "\n"
   ]
  },
  {
   "cell_type": "markdown",
   "metadata": {},
   "source": [
    "Starting from the third table is our target table contains the actual launch records.\n"
   ]
  },
  {
   "cell_type": "code",
   "execution_count": 15,
   "metadata": {
    "tags": []
   },
   "outputs": [
    {
     "name": "stdout",
     "output_type": "stream",
     "text": [
      "<table class=\"wikitable plainrowheaders wikiepisodetable\" style=\"width:100%\"><tbody><tr style=\"color:white;text-align:center\"><th scope=\"col\" style=\"background:#733635;width:5%;color:white\"><abbr title=\"Number\">No.</abbr></th><th scope=\"col\" style=\"background:#733635;width:30%;color:white\">Title</th><th scope=\"col\" style=\"background:#733635;width:20%;color:white\">Directed by</th><th scope=\"col\" style=\"background:#733635;width:15%;color:white\">Original release date</th><th scope=\"col\" style=\"background:#733635;width:15%;color:white\">Free view release date\n",
      "</th></tr><tr class=\"vevent module-episode-list-row\" style=\"text-align:center;background:inherit;color:inherit\"><th id=\"ep1\" rowspan=\"1\" scope=\"row\" style=\"text-align:center\">1</th><td class=\"summary\" rowspan=\"1\" style=\"text-align:left\">\"Travel back\"<br/> (<a href=\"/wiki/Korean_language\" title=\"Korean language\">Korean</a>: <span lang=\"ko\">아날로그 트립 여행의 실체</span>)</td><td style=\"text-align:center\">Kim Ji-seon</td><td style=\"text-align:center\">9 October 2019<span style=\"display: none;\"> (<span class=\"bday dtstart published updated itvstart\">2019-10-09</span>)</span></td><td style=\"text-align:center\">9 October 2019</td></tr><tr class=\"expand-child\"><td class=\"description\" colspan=\"6\" style=\"border-bottom:solid 3px #733635\">\n",
      "<div class=\"shortSummaryText\" style=\"max-width:90vw;position:sticky;left:0.2em\">\n",
      "The cast arrived at their hotel in <a href=\"/wiki/Bali\" title=\"Bali\">Bali</a>, Indonesia. They left their luggage in their shared living room and went to eat. When they returned to their room, they found that their luggage were missing and were replaced with backpacks. The cast were told that they had travelled back in time to 2002, when they were still trainees. Because of this, all their electronic devices were confiscated and exchanged with devices that are present in 2002 such as <a class=\"mw-redirect\" href=\"/wiki/MP3_player\" title=\"MP3 player\">MP3 player</a> and <a href=\"/wiki/Mobile_phone\" title=\"Mobile phone\">mobile phone</a>. They were given instructions on how to return to the present time; by carrying out the tasks given to them, which includes filling up a photo album with photos taken at specific places, and composing a theme song for their trip.</div></td></tr>\n",
      "<tr class=\"vevent module-episode-list-row\" style=\"text-align:center;background:inherit;color:inherit\"><th id=\"ep2\" rowspan=\"1\" scope=\"row\" style=\"text-align:center\">2</th><td class=\"summary\" rowspan=\"1\" style=\"text-align:left\">\"Ready, Set, Go!\"<br/> (<a href=\"/wiki/Korean_language\" title=\"Korean language\">Korean</a>: <span lang=\"ko\">본격적인 '아날로그 여행' 시작</span>)</td><td style=\"text-align:center\">Kim Ji-seon</td><td style=\"text-align:center\">9 October 2019<span style=\"display: none;\"> (<span class=\"bday dtstart published updated itvstart\">2019-10-09</span>)</span></td><td style=\"text-align:center\">23 October 2019<sup class=\"reference\" id=\"cite_ref-:10_10-0\"><a href=\"#cite_note-:10-10\"><span class=\"cite-bracket\">[</span>9<span class=\"cite-bracket\">]</span></a></sup></td></tr><tr class=\"expand-child\"><td class=\"description\" colspan=\"6\" style=\"border-bottom:solid 3px #733635\">\n",
      "<div class=\"shortSummaryText\" style=\"max-width:90vw;position:sticky;left:0.2em\">\n",
      "The cast assigned roles for each other to ease their trip. Changmin was in charged of the cast's allowances and spending, Shindong of photography and cameras, and Donghae of the guitar. Yunho was the <a href=\"/wiki/Porter_(carrier)\" title=\"Porter (carrier)\">porter</a>; he kept their passports and was responsible for snacks, Leeteuk became their <a class=\"mw-redirect\" href=\"/wiki/First_aider\" title=\"First aider\">first aider</a> and Eunhyuk was their <a href=\"/wiki/Tour_guide\" title=\"Tour guide\">tour guide</a>. The next day, they took a flight to <a href=\"/wiki/Yogyakarta\" title=\"Yogyakarta\">Yogyakarta</a>. After settling in at the hotel, they booked a van for easier mean of travel. Changmin started to feel pressured by his role as the production team only paid for their hotel but the cast had to pay for their transportation by themselves. The cast went to <a class=\"mw-redirect\" href=\"/wiki/Borobodur\" title=\"Borobodur\">Borobodur</a>, the biggest Buddhist temple in the world. Leeteuk tried to haggle for a cheaper entrance fee but he was not successful.</div></td></tr>\n",
      "<tr class=\"vevent module-episode-list-row\" style=\"text-align:center;background:inherit;color:inherit\"><th id=\"ep3\" rowspan=\"1\" scope=\"row\" style=\"text-align:center\">3</th><td class=\"summary\" rowspan=\"1\" style=\"text-align:left\">\"Grandeur and Mystery\"<br/> (<a href=\"/wiki/Korean_language\" title=\"Korean language\">Korean</a>: <span lang=\"ko\">한걸음 한걸음 거대함과 신비함을</span>)</td><td style=\"text-align:center\">Kim Ji-seon</td><td style=\"text-align:center\">9 October 2019<span style=\"display: none;\"> (<span class=\"bday dtstart published updated itvstart\">2019-10-09</span>)</span></td><td style=\"text-align:center\">30 October 2019<sup class=\"reference\" id=\"cite_ref-11\"><a href=\"#cite_note-11\"><span class=\"cite-bracket\">[</span>10<span class=\"cite-bracket\">]</span></a></sup></td></tr><tr class=\"expand-child\"><td class=\"description\" colspan=\"6\" style=\"border-bottom:solid 3px #733635\">\n",
      "<div class=\"shortSummaryText\" style=\"max-width:90vw;position:sticky;left:0.2em\">\n",
      "The cast was amazed at the size of Borobodur. They climbed the steps to the peak of the temple, while admiring the carvings on the wall and the architectural build of the <a href=\"/wiki/Stupa\" title=\"Stupa\">stupas</a>. They took a picture at the stairs, checking off their first task. In the evening, they went to eat at a restaurant that served Korean food, after Changmin's protest of the food being expensive was dismissed through a majority vote. Donghae won the <a href=\"/wiki/Rock_paper_scissors\" title=\"Rock paper scissors\">rock paper scissors</a> game at the restaurant, and get to order a meal of his choosing on top of other meals. He ordered <a href=\"/wiki/Samgyeopsal\" title=\"Samgyeopsal\">samgyeopsal</a>, much to Changmin's chagrin.</div></td></tr>\n",
      "<tr class=\"vevent module-episode-list-row\" style=\"text-align:center;background:inherit;color:inherit\"><th id=\"ep4\" rowspan=\"1\" scope=\"row\" style=\"text-align:center\">4</th><td class=\"summary\" rowspan=\"1\" style=\"text-align:left\">\"Off Road\"<br/> (<a href=\"/wiki/Korean_language\" title=\"Korean language\">Korean</a>: <span lang=\"ko\">강렬한 오프로드의 맛</span>)</td><td style=\"text-align:center\">Kim Ji-seon</td><td style=\"text-align:center\">9 October 2019<span style=\"display: none;\"> (<span class=\"bday dtstart published updated itvstart\">2019-10-09</span>)</span></td><td style=\"text-align:center\">6 November 2019<sup class=\"reference\" id=\"cite_ref-12\"><a href=\"#cite_note-12\"><span class=\"cite-bracket\">[</span>11<span class=\"cite-bracket\">]</span></a></sup></td></tr><tr class=\"expand-child\"><td class=\"description\" colspan=\"6\" style=\"border-bottom:solid 3px #733635\">\n",
      "<div class=\"shortSummaryText\" style=\"max-width:90vw;position:sticky;left:0.2em\">\n",
      "The cast reconvened at the hotel as the day ended. They started brainstorming about the theme song they were supposed to write. They also decided on a <a class=\"mw-redirect\" href=\"/wiki/Cheer\" title=\"Cheer\">cheer</a> for the trip. The next morning, Yunho was checking his stock of food when he realised one of the <a href=\"/wiki/Cup_noodle\" title=\"Cup noodle\">cup noodles</a> was missing. During the journey to their next destination, Yunho confronted the rest of the cast about the cup noodle. Leeteuk, who had eaten it in the morning, tried to deflect the questions directed at him, making the cast correctly presumed he had eaten them. The cast arrived at the base camp of <a href=\"/wiki/Mount_Merapi\" title=\"Mount Merapi\">Mount Merapi</a>. They rented jeeps and toured around the mountain. They visited the Sisa Hartaku Mini Museum, which displayed the recovered artifacts from the <a href=\"/wiki/2010_eruptions_of_Mount_Merapi\" title=\"2010 eruptions of Mount Merapi\">volcanic eruption in 2010</a>.</div></td></tr>\n",
      "<tr class=\"vevent module-episode-list-row\" style=\"text-align:center;background:inherit;color:inherit\"><th id=\"ep5\" rowspan=\"1\" scope=\"row\" style=\"text-align:center\">5</th><td class=\"summary\" rowspan=\"1\" style=\"text-align:left\">\"Heart to Heart\"<br/> (<a href=\"/wiki/Korean_language\" title=\"Korean language\">Korean</a>: <span lang=\"ko\">진솔한 대화</span>)</td><td style=\"text-align:center\">Kim Ji-seon</td><td style=\"text-align:center\">9 October 2019<span style=\"display: none;\"> (<span class=\"bday dtstart published updated itvstart\">2019-10-09</span>)</span></td><td style=\"text-align:center\">13 November 2019<sup class=\"reference\" id=\"cite_ref-13\"><a href=\"#cite_note-13\"><span class=\"cite-bracket\">[</span>12<span class=\"cite-bracket\">]</span></a></sup></td></tr><tr class=\"expand-child\"><td class=\"description\" colspan=\"6\" style=\"border-bottom:solid 3px #733635\">\n",
      "<div class=\"shortSummaryText\" style=\"max-width:90vw;position:sticky;left:0.2em\">\n",
      "The cast arrived at the Bunker Kaliadem and explored it for a while. Then, each of them took a picture with a tame owl. Leeteuk, who is afraid of birds managed to overcome his fear and completed the task. It was raining heavily as they went down the Mount Merapi. The cast experienced rough terrain ride as they passed the Kali Kuning river a few times. In the evening, they went to have dinner at a restaurant at <a href=\"/wiki/Jalan_Malioboro\" title=\"Jalan Malioboro\">Jalan Malioboro</a>. The cast talked about their rivalry and jealousy towards each other's group. Donghae and Yunho apologized to each other for ignoring each other's text when they were busy preparing for debut back then. The cast recalled on how watching the other's accomplishment always urging them to work harder as they are each other's <a href=\"/wiki/Pacemaker_(running)\" title=\"Pacemaker (running)\">pacemaker</a>, and how lucky they are, to be able to laugh and talk about it without hard feelings years later as they had successful careers.</div></td></tr>\n",
      "<tr class=\"vevent module-episode-list-row\" style=\"text-align:center;background:inherit;color:inherit\"><th id=\"ep6\" rowspan=\"1\" scope=\"row\" style=\"text-align:center\">6</th><td class=\"summary\" rowspan=\"1\" style=\"text-align:left\">\"To the Underwold\"<br/> (<a href=\"/wiki/Korean_language\" title=\"Korean language\">Korean</a>: <span lang=\"ko\">이곳은 천국인가 지옥인가?</span>)</td><td style=\"text-align:center\">Kim Ji-seon</td><td style=\"text-align:center\">9 October 2019<span style=\"display: none;\"> (<span class=\"bday dtstart published updated itvstart\">2019-10-09</span>)</span></td><td style=\"text-align:center\">20 November 2019<sup class=\"reference\" id=\"cite_ref-14\"><a href=\"#cite_note-14\"><span class=\"cite-bracket\">[</span>13<span class=\"cite-bracket\">]</span></a></sup></td></tr><tr class=\"expand-child\"><td class=\"description\" colspan=\"6\" style=\"border-bottom:solid 3px #733635\">\n",
      "<div class=\"shortSummaryText\" style=\"max-width:90vw;position:sticky;left:0.2em\">\n",
      "It is their third day in Yogyakarta. The cast departed early from the hotel to the next destination. During the journey, Leeteuk pretended he was hosting a morning radio show, with Yunho as guest, Eunhyuk as the <a class=\"mw-redirect\" href=\"/wiki/Foreign_correspondent\" title=\"Foreign correspondent\">foreign correspondent</a> and Shindong as the <a href=\"/wiki/Weather_presenter\" title=\"Weather presenter\">weather presenter</a>. They arrived at the entrance of the <a href=\"/wiki/Pit_cave\" title=\"Pit cave\">vertical cave</a>, Goa Jomblang, which is located at <a href=\"/wiki/Gunung_Kidul_Regency\" title=\"Gunung Kidul Regency\">Gunung Kidul Regency</a>. The cast except Eunhyuk, hesitated to go down the cliff, especially when they saw that they will be lowered by ropes, which was operated by manual labour. The cast managed to curb their fear and went down without fanfares. Donghae admitted that it was a quite difficult for him as he had both <a href=\"/wiki/Acrophobia\" title=\"Acrophobia\">acrophobia</a> and <a href=\"/wiki/Claustrophobia\" title=\"Claustrophobia\">claustrophobia</a>. The cast trekked for a while before arriving at the cave opening. In the <a href=\"/wiki/Post-credits_scene\" title=\"Post-credits scene\">post-credits scene</a>, the cast were shown to take a group picture before their descent but nobody beside Eunhyuk was smiling.</div></td></tr>\n",
      "<tr class=\"vevent module-episode-list-row\" style=\"text-align:center;background:inherit;color:inherit\"><th id=\"ep7\" rowspan=\"1\" scope=\"row\" style=\"text-align:center\">7</th><td class=\"summary\" rowspan=\"1\" style=\"text-align:left\">\"Light of Heaven\"<br/> (<a href=\"/wiki/Korean_language\" title=\"Korean language\">Korean</a>: <span lang=\"ko\">천국의 빛</span>)</td><td style=\"text-align:center\">Kim Ji-seon</td><td style=\"text-align:center\">9 October 2019<span style=\"display: none;\"> (<span class=\"bday dtstart published updated itvstart\">2019-10-09</span>)</span></td><td style=\"text-align:center\">4 December 2019<sup class=\"reference\" id=\"cite_ref-:09_16-0\"><a href=\"#cite_note-:09-16\"><span class=\"cite-bracket\">[</span>15<span class=\"cite-bracket\">]</span></a></sup></td></tr><tr class=\"expand-child\"><td class=\"description\" colspan=\"6\" style=\"border-bottom:solid 3px #733635\">\n",
      "<div class=\"shortSummaryText\" style=\"max-width:90vw;position:sticky;left:0.2em\">\n",
      "The cast entered Goa Jomblang. The cave floor was muddy, making it very slippery. Leeteuk had muds entering his boots as he went knee-deep into the mud. The cast arrived at the part of the cave that was dubbed as \"light of heaven\" because it has a ceiling opening where light can shine through, which created a beautiful scenery. The cast took individual pictures under the light but they were unable to take a group picture as the light faded. During the returning trek, the cast realised that Yunho was being quiet. He denied that he was tired when asked by the worried cast members. In the <a href=\"/wiki/Pundit\" title=\"Pundit\">talking head</a> interview, Yunho admitted that he was experiencing headache, dizziness, and signs of <a href=\"/wiki/Panic_attack\" title=\"Panic attack\">panic attack</a>. He said that the atmosphere in the cave reminded him of his <a href=\"/wiki/Near-death_experience\" title=\"Near-death experience\">near-death experience</a>, when he was poisoned with <a href=\"/wiki/Cyanoacrylate\" title=\"Cyanoacrylate\">super glue</a> by an <a href=\"/wiki/Anti-fan\" title=\"Anti-fan\">anti-fan</a> back in 2006.<sup class=\"reference\" id=\"cite_ref-15\"><a href=\"#cite_note-15\"><span class=\"cite-bracket\">[</span>14<span class=\"cite-bracket\">]</span></a></sup> He quickly recovered as they got out of the cave and ascended to the ground level. The cast departed to their next destination, the <a class=\"new\" href=\"/w/index.php?title=Kalisuci_cave&amp;action=edit&amp;redlink=1\" title=\"Kalisuci cave (page does not exist)\">Kalisuci cave</a>. They ate before starting their next activity, enjoying the lunch prepared by Yunho.</div></td></tr>\n",
      "<tr class=\"vevent module-episode-list-row\" style=\"text-align:center;background:inherit;color:inherit\"><th id=\"ep8\" rowspan=\"1\" scope=\"row\" style=\"text-align:center\">8</th><td class=\"summary\" rowspan=\"1\" style=\"text-align:left\">\"Overcome\"<br/> (<a href=\"/wiki/Korean_language\" title=\"Korean language\">Korean</a>: <span lang=\"ko\">극복</span>)</td><td style=\"text-align:center\">Kim Ji-seon</td><td style=\"text-align:center\">9 October 2019<span style=\"display: none;\"> (<span class=\"bday dtstart published updated itvstart\">2019-10-09</span>)</span></td><td style=\"text-align:center\">4 December 2019<sup class=\"reference\" id=\"cite_ref-:09_16-1\"><a href=\"#cite_note-:09-16\"><span class=\"cite-bracket\">[</span>15<span class=\"cite-bracket\">]</span></a></sup></td></tr><tr class=\"expand-child\"><td class=\"description\" colspan=\"6\" style=\"border-bottom:solid 3px #733635\">\n",
      "<div class=\"shortSummaryText\" style=\"max-width:90vw;position:sticky;left:0.2em\">\n",
      "The cast were dressed in <a href=\"/wiki/Wetsuit\" title=\"Wetsuit\">wetsuits</a> as they prepared for <a href=\"/wiki/Tubing_(recreation)#Water\" title=\"Tubing (recreation)\">river tubing</a> at the Kalisuci cave, which is a <a class=\"mw-redirect\" href=\"/wiki/River_cave\" title=\"River cave\">river cave</a>. Shindong, who is afraid of moving water, was determined to face his fear despite the cast assuring him that it is okay to opt out of the activity. Shindong took the lead in tubing after a short discussion among the cast. They all agreed that Shindong might be afraid to have a go if he saw how the other went ahead of him. The cast fulfilled their task of taking picture in the river while forming a circle, holding hands and lying on their backs above the water. In the talking head interview, Shindong credited the mission's success to the cast members who kept encouraging him. After their activity ended, the cast were shocked that they have to climb many flight of stairs as they did not realise they went quite far downstream. Eunhyuk akin the experience as being back in the military <a class=\"mw-redirect\" href=\"/wiki/Recruit_training\" title=\"Recruit training\">boot camp</a>.</div></td></tr>\n",
      "<tr class=\"vevent module-episode-list-row\" style=\"text-align:center;background:inherit;color:inherit\"><th id=\"ep9\" rowspan=\"1\" scope=\"row\" style=\"text-align:center\">9</th><td class=\"summary\" rowspan=\"1\" style=\"text-align:left\">\"New Adventure\"<br/> (<a href=\"/wiki/Korean_language\" title=\"Korean language\">Korean</a>: <span lang=\"ko\">새로운 도전의 시작</span>)</td><td style=\"text-align:center\">Kim Ji-seon</td><td style=\"text-align:center\">9 October 2019<span style=\"display: none;\"> (<span class=\"bday dtstart published updated itvstart\">2019-10-09</span>)</span></td><td style=\"text-align:center\">11 December 2019<sup class=\"reference\" id=\"cite_ref-17\"><a href=\"#cite_note-17\"><span class=\"cite-bracket\">[</span>16<span class=\"cite-bracket\">]</span></a></sup></td></tr><tr class=\"expand-child\"><td class=\"description\" colspan=\"6\" style=\"border-bottom:solid 3px #733635\">\n",
      "<div class=\"shortSummaryText\" style=\"max-width:90vw;position:sticky;left:0.2em\">\n",
      "In the evening of the third day, the cast went to have dinner at an open air restaurant, which had a great view of Yogyakarta. The cast took a picture there and wrote the day's diary memo detailing their experience. On the next day, they went to <a href=\"/wiki/Parangtritis\" title=\"Parangtritis\">Parangtritis</a> beach to do <a href=\"/wiki/Paragliding\" title=\"Paragliding\">paragliding</a> activity. Yunho, Donghae and Shindong, who had never paraglide before, were given priority to go first since they were under time constraints. Yunho was notably nervous about the mission as it was in his <a href=\"/wiki/Wish_list\" title=\"Wish list\">bucket list</a>. As they were preparing at the top of the cliff, the instructor told them that they can't go as the wind is too strong and it is going to rain soon. The disappointed cast went to lunch nearby. As they eat, the sky cleared up. They quickly finished their meal and rushed back to the clifftop.</div></td></tr>\n",
      "<tr class=\"vevent module-episode-list-row\" style=\"text-align:center;background:inherit;color:inherit\"><th id=\"ep10\" rowspan=\"1\" scope=\"row\" style=\"text-align:center\">10</th><td class=\"summary\" rowspan=\"1\" style=\"text-align:left\">\"Fly Together\"<br/> (<a href=\"/wiki/Korean_language\" title=\"Korean language\">Korean</a>: <span lang=\"ko\">함께</span>)</td><td style=\"text-align:center\">Kim Ji-seon</td><td style=\"text-align:center\">9 October 2019<span style=\"display: none;\"> (<span class=\"bday dtstart published updated itvstart\">2019-10-09</span>)</span></td><td style=\"text-align:center\">18 December 2019<sup class=\"reference\" id=\"cite_ref-18\"><a href=\"#cite_note-18\"><span class=\"cite-bracket\">[</span>17<span class=\"cite-bracket\">]</span></a></sup></td></tr><tr class=\"expand-child\"><td class=\"description\" colspan=\"6\" style=\"border-bottom:solid 3px #733635\">\n",
      "<div class=\"shortSummaryText\" style=\"max-width:90vw;position:sticky;left:0.2em\">\n",
      "Donghae, Shindong and Yunho took turns paragliding. Donghae, who has acrophobia went first. Shindong, who went second, flew lower than the others as he was unlucky to launched when it is not very windy. Yunho, who flew last is noticeably the most nervous out of everyone but he managed to carry out the activity without any problem. The rest of the cast decided not to paraglide because they might miss the sunset for the next task. Donghae, Shindong and Yunho went for a drink at a stall at the beach after they had landed but they had forgotten that Changmin had all of their money. Donghae borrowed some money from the crew to pay for the drinks. The cast reunited and discussed about writing their final diary memo to read out at the beach later. It turned out to be useless as it rained in the evening. Upon returning to the hotel room, they found that their <a href=\"/wiki/Smartphone\" title=\"Smartphone\">smartphone</a> and luggage were waiting in their rooms, indicating that they had returned to 2019 despite failing to carry out the final task.</div></td></tr>\n",
      "<tr class=\"vevent module-episode-list-row\" style=\"text-align:center;background:inherit;color:inherit\"><th id=\"ep11\" rowspan=\"1\" scope=\"row\" style=\"text-align:center\">11</th><td class=\"summary\" rowspan=\"1\" style=\"text-align:left\">\"Come a Little Closer\"<br/> (<a href=\"/wiki/Korean_language\" title=\"Korean language\">Korean</a>: <span lang=\"ko\">너와 나</span>)</td><td style=\"text-align:center\">Kim Ji-seon</td><td style=\"text-align:center\">9 October 2019<span style=\"display: none;\"> (<span class=\"bday dtstart published updated itvstart\">2019-10-09</span>)</span></td><td style=\"text-align:center\">25 December 2019<sup class=\"reference\" id=\"cite_ref-19\"><a href=\"#cite_note-19\"><span class=\"cite-bracket\">[</span>18<span class=\"cite-bracket\">]</span></a></sup></td></tr><tr class=\"expand-child\"><td class=\"description\" colspan=\"6\" style=\"border-bottom:solid 3px #733635\">\n",
      "<div class=\"shortSummaryText\" style=\"max-width:90vw;position:sticky;left:0.2em\">\n",
      "The cast were overjoyed that their electronic devices were returned to them. They held a discussion about the activity they are going to do on their final day in Indonesia. They decided to do a shooting for the music video of their soundtrack, even though they haven't finished writing the song. The next day, Shindong acted as the director of the music video and held a meeting with the cameramen to clarify which recording equipments were available. They departed to <a href=\"/wiki/Prambanan\" title=\"Prambanan\">Prambanan</a> temple for the activity. The cast chose their own preferred scene, with Shindong predicting that the end result will be chaotic. Afterwards, they went for lunch at a restaurant that overlooked the temple. They read letters that they had written towards each other, and reflect about their trip experience. They go through all the developed pictures and arranged them in an album. The episode end with them doing one final group cheer.</div></td></tr>\n",
      "<tr class=\"vevent module-episode-list-row\" style=\"text-align:center;background:inherit;color:inherit\"><th id=\"ep12\" rowspan=\"1\" scope=\"row\" style=\"text-align:center\">12</th><td class=\"summary\" rowspan=\"1\" style=\"text-align:left\">\"Reunion\"<br/> (<a href=\"/wiki/Korean_language\" title=\"Korean language\">Korean</a>: <span lang=\"ko\">재회</span>)</td><td style=\"text-align:center\">Kim Ji-seon</td><td style=\"text-align:center\">9 October 2019<span style=\"display: none;\"> (<span class=\"bday dtstart published updated itvstart\">2019-10-09</span>)</span></td><td style=\"text-align:center\">1 January 2020<sup class=\"reference\" id=\"cite_ref-:04_24-0\"><a href=\"#cite_note-:04-24\"><span class=\"cite-bracket\">[</span>22<span class=\"cite-bracket\">]</span></a></sup></td></tr><tr class=\"expand-child\"><td class=\"description\" colspan=\"6\" style=\"border-bottom:solid 3px #733635\">\n",
      "<div class=\"shortSummaryText\" style=\"max-width:90vw;position:sticky;left:0.2em\">\n",
      "The cast members returned to their busy life after they returned from Indonesia. During the lull in his schedule, Leeteuk met up with his frequent collaborator in composing, Team One Sound,<sup class=\"reference\" id=\"cite_ref-22\"><a href=\"#cite_note-22\"><span class=\"cite-bracket\">[</span>b<span class=\"cite-bracket\">]</span></a></sup> to choose the music for the soundtrack from their list of compositions. They decided to use the music that Leeteuk previously used for his fanmeeting event in Japan. Changmin became their lyricist as he had shown his skill in writing rhyming lyrics during the travel. After the song is written, Leeteuk, Shindong, Eunhyuk and Donghae recorded the soundtrack. Yunho and Changmin did not participate because of their busy schedules. Shindong edited the music video at his <a class=\"mw-redirect\" href=\"/wiki/Production_house\" title=\"Production house\">production house</a> office, the Walala Production. The cast, except Shindong who was ill, regrouped at the SMTown Live in Tokyo 2019 concert, which was held on 3 – 5 August 2019.<sup class=\"reference\" id=\"cite_ref-23\"><a href=\"#cite_note-23\"><span class=\"cite-bracket\">[</span>21<span class=\"cite-bracket\">]</span></a></sup> In between the performances, they reunited backstage and watched the finished music video together, while reminiscing about their trip.</div></td></tr>\n",
      "<tr class=\"vevent module-episode-list-row\" style=\"text-align:center;background:inherit;color:inherit\"><th id=\"ep13\" rowspan=\"1\" scope=\"row\" style=\"text-align:center\">13</th><td class=\"summary\" rowspan=\"1\" style=\"text-align:left\">\"Analog Trip After Party \"Apa Kabar! Indonesia\"\"<br/> (<a href=\"/wiki/Korean_language\" title=\"Korean language\">Korean</a>: <span lang=\"ko\">동방신기와 슈퍼주니어의 '아날로그 트립' 뒤풀이 라이브</span>)</td><td style=\"text-align:center\">Kim Ji-seon</td><td style=\"text-align:center\">22 January 2020<span style=\"display: none;\"> (<span class=\"bday dtstart published updated itvstart\">2020-01-22</span>)</span></td><td style=\"text-align:center\">18 February 2020</td></tr></tbody></table>\n"
     ]
    }
   ],
   "source": [
    "# Let's print the third table and check its content\n",
    "#first_launch_table = html_tables[2]\n",
    "first_launch_table = html_tables[0]  \n",
    "\n",
    "print(first_launch_table)"
   ]
  },
  {
   "cell_type": "markdown",
   "metadata": {},
   "source": [
    "You should able to see the columns names embedded in the table header elements `<th>` as follows:\n"
   ]
  },
  {
   "cell_type": "markdown",
   "metadata": {},
   "source": [
    "```\n",
    "<tr>\n",
    "<th scope=\"col\">Flight No.\n",
    "</th>\n",
    "<th scope=\"col\">Date and<br/>time (<a href=\"/wiki/Coordinated_Universal_Time\" title=\"Coordinated Universal Time\">UTC</a>)\n",
    "</th>\n",
    "<th scope=\"col\"><a href=\"/wiki/List_of_Falcon_9_first-stage_boosters\" title=\"List of Falcon 9 first-stage boosters\">Version,<br/>Booster</a> <sup class=\"reference\" id=\"cite_ref-booster_11-0\"><a href=\"#cite_note-booster-11\">[b]</a></sup>\n",
    "</th>\n",
    "<th scope=\"col\">Launch site\n",
    "</th>\n",
    "<th scope=\"col\">Payload<sup class=\"reference\" id=\"cite_ref-Dragon_12-0\"><a href=\"#cite_note-Dragon-12\">[c]</a></sup>\n",
    "</th>\n",
    "<th scope=\"col\">Payload mass\n",
    "</th>\n",
    "<th scope=\"col\">Orbit\n",
    "</th>\n",
    "<th scope=\"col\">Customer\n",
    "</th>\n",
    "<th scope=\"col\">Launch<br/>outcome\n",
    "</th>\n",
    "<th scope=\"col\"><a href=\"/wiki/Falcon_9_first-stage_landing_tests\" title=\"Falcon 9 first-stage landing tests\">Booster<br/>landing</a>\n",
    "</th></tr>\n",
    "```\n"
   ]
  },
  {
   "cell_type": "markdown",
   "metadata": {},
   "source": [
    "Next, we just need to iterate through the `<th>` elements and apply the provided `extract_column_from_header()` to extract column name one by one\n"
   ]
  },
  {
   "cell_type": "code",
   "execution_count": 19,
   "metadata": {
    "tags": []
   },
   "outputs": [],
   "source": [
    "column_names = []\n",
    "\n",
    "# Apply find_all() function with `th` element on first_launch_table\n",
    "# Iterate each th element and apply the provided extract_column_from_header() to get a column name\n",
    "# Append the Non-empty column name (`if name is not None and len(name) > 0`) into a list called column_names\n",
    "\n",
    "def extract_column_from_header(row):\n",
    "    if (row.br):\n",
    "        row.br.extract()\n",
    "    if (row.a):\n",
    "        row.a.extract()\n",
    "    if (row.sup):\n",
    "        row.sup.extract()\n",
    "    \n",
    "    # Convertir cada elemento del contenido a string para evitar TypeError\n",
    "    column_name = ' '.join([str(elem).strip() for elem in row.contents])\n",
    "    \n",
    "    # Filtrar entradas vacías o que sean solo números\n",
    "    if not column_name.strip().isdigit():\n",
    "        return column_name.strip()\n",
    "\n",
    "\n",
    "\n",
    "\n",
    "for th in first_launch_table.find_all(\"th\"):\n",
    "    name = extract_column_from_header(th)\n",
    "    if name is not None and len(name) > 0:\n",
    "        column_names.append(name)\n"
   ]
  },
  {
   "cell_type": "markdown",
   "metadata": {},
   "source": [
    "Check the extracted column names\n"
   ]
  },
  {
   "cell_type": "code",
   "execution_count": 20,
   "metadata": {
    "tags": []
   },
   "outputs": [
    {
     "name": "stdout",
     "output_type": "stream",
     "text": [
      "['<abbr title=\"Number\">No.</abbr>', 'Title', 'Directed by', 'Original release date', 'Free view release date']\n"
     ]
    }
   ],
   "source": [
    "print(column_names)"
   ]
  },
  {
   "cell_type": "markdown",
   "metadata": {},
   "source": [
    "## TASK 3: Create a data frame by parsing the launch HTML tables\n"
   ]
  },
  {
   "cell_type": "markdown",
   "metadata": {},
   "source": [
    "We will create an empty dictionary with keys from the extracted column names in the previous task. Later, this dictionary will be converted into a Pandas dataframe\n"
   ]
  },
  {
   "cell_type": "code",
   "execution_count": 23,
   "metadata": {
    "tags": []
   },
   "outputs": [],
   "source": [
    "launch_dict = dict.fromkeys(column_names)\n",
    "\n",
    "# Eliminar columnas irrelevantes\n",
    "launch_dict.pop('Date and time (UTC)', None)\n",
    "launch_dict.pop('', None)\n",
    "\n",
    "\n",
    "# Inicializar listas vacías por clave relevante\n",
    "launch_dict['Flight No.'] = []\n",
    "launch_dict['Launch site'] = []\n",
    "launch_dict['Payload'] = []\n",
    "launch_dict['Payload mass'] = []\n",
    "launch_dict['Orbit'] = []\n",
    "launch_dict['Customer'] = []\n",
    "launch_dict['Launch outcome'] = []\n",
    "\n",
    "# Columnas agregadas manualmente\n",
    "launch_dict['Version Booster'] = []\n",
    "launch_dict['Booster landing'] = []\n",
    "launch_dict['Date'] = []\n",
    "launch_dict['Time'] = []\n"
   ]
  },
  {
   "cell_type": "markdown",
   "metadata": {},
   "source": [
    "Next, we just need to fill up the `launch_dict` with launch records extracted from table rows.\n"
   ]
  },
  {
   "cell_type": "markdown",
   "metadata": {},
   "source": [
    "Usually, HTML tables in Wiki pages are likely to contain unexpected annotations and other types of noises, such as reference links `B0004.1[8]`, missing values `N/A [e]`, inconsistent formatting, etc.\n"
   ]
  },
  {
   "cell_type": "markdown",
   "metadata": {},
   "source": [
    "To simplify the parsing process, we have provided an incomplete code snippet below to help you to fill up the `launch_dict`. Please complete the following code snippet with TODOs or you can choose to write your own logic to parse all launch tables:\n"
   ]
  },
  {
   "cell_type": "code",
   "execution_count": 24,
   "metadata": {
    "tags": []
   },
   "outputs": [],
   "source": [
    "extracted_row = 0\n",
    "#Extract each table \n",
    "for table_number,table in enumerate(soup.find_all('table',\"wikitable plainrowheaders collapsible\")):\n",
    "   # get table row \n",
    "    for rows in table.find_all(\"tr\"):\n",
    "        #check to see if first table heading is as number corresponding to launch a number \n",
    "        if rows.th:\n",
    "            if rows.th.string:\n",
    "                flight_number=rows.th.string.strip()\n",
    "                flag=flight_number.isdigit()\n",
    "        else:\n",
    "            flag=False\n",
    "        #get table element \n",
    "        row=rows.find_all('td')\n",
    "        #if it is number save cells in a dictonary \n",
    "        if flag:\n",
    "            extracted_row += 1\n",
    "            # Flight Number value\n",
    "            # TODO: Append the flight_number into launch_dict with key `Flight No.`\n",
    "            #print(flight_number)\n",
    "            datatimelist=date_time(row[0])\n",
    "            \n",
    "            # Date value\n",
    "            # TODO: Append the date into launch_dict with key `Date`\n",
    "            date = datatimelist[0].strip(',')\n",
    "            #print(date)\n",
    "            \n",
    "            # Time value\n",
    "            # TODO: Append the time into launch_dict with key `Time`\n",
    "            time = datatimelist[1]\n",
    "            #print(time)\n",
    "              \n",
    "            # Booster version\n",
    "            # TODO: Append the bv into launch_dict with key `Version Booster`\n",
    "            bv=booster_version(row[1])\n",
    "            if not(bv):\n",
    "                bv=row[1].a.string\n",
    "            print(bv)\n",
    "            \n",
    "            # Launch Site\n",
    "            # TODO: Append the bv into launch_dict with key `Launch Site`\n",
    "            launch_site = row[2].a.string\n",
    "            #print(launch_site)\n",
    "            \n",
    "            # Payload\n",
    "            # TODO: Append the payload into launch_dict with key `Payload`\n",
    "            payload = row[3].a.string\n",
    "            #print(payload)\n",
    "            \n",
    "            # Payload Mass\n",
    "            # TODO: Append the payload_mass into launch_dict with key `Payload mass`\n",
    "            payload_mass = get_mass(row[4])\n",
    "            #print(payload)\n",
    "            \n",
    "            # Orbit\n",
    "            # TODO: Append the orbit into launch_dict with key `Orbit`\n",
    "            orbit = row[5].a.string\n",
    "            #print(orbit)\n",
    "            \n",
    "            # Customer\n",
    "            # TODO: Append the customer into launch_dict with key `Customer`\n",
    "            customer = row[6].a.string\n",
    "            #print(customer)\n",
    "            \n",
    "            # Launch outcome\n",
    "            # TODO: Append the launch_outcome into launch_dict with key `Launch outcome`\n",
    "            launch_outcome = list(row[7].strings)[0]\n",
    "            #print(launch_outcome)\n",
    "            \n",
    "            # Booster landing\n",
    "            # TODO: Append the launch_outcome into launch_dict with key `Booster landing`\n",
    "            booster_landing = landing_status(row[8])\n",
    "            #print(booster_landing)\n",
    "            "
   ]
  },
  {
   "cell_type": "markdown",
   "metadata": {},
   "source": [
    "After you have fill in the parsed launch record values into `launch_dict`, you can create a dataframe from it.\n"
   ]
  },
  {
   "cell_type": "code",
   "execution_count": 26,
   "metadata": {
    "tags": []
   },
   "outputs": [
    {
     "name": "stderr",
     "output_type": "stream",
     "text": [
      "/home/jupyterlab/conda/envs/python/lib/python3.7/site-packages/ipykernel_launcher.py:1: DeprecationWarning: The default dtype for empty Series will be 'object' instead of 'float64' in a future version. Specify a dtype explicitly to silence this warning.\n",
      "  \"\"\"Entry point for launching an IPython kernel.\n"
     ]
    }
   ],
   "source": [
    "df= pd.DataFrame({ key:pd.Series(value) for key, value in launch_dict.items() })\n"
   ]
  },
  {
   "cell_type": "markdown",
   "metadata": {},
   "source": [
    "We can now export it to a <b>CSV</b> for the next section, but to make the answers consistent and in case you have difficulties finishing this lab. \n",
    "\n",
    "Following labs will be using a provided dataset to make each lab independent. \n"
   ]
  },
  {
   "cell_type": "markdown",
   "metadata": {},
   "source": [
    "<code>df.to_csv('spacex_web_scraped.csv', index=False)</code>\n"
   ]
  },
  {
   "cell_type": "markdown",
   "metadata": {},
   "source": [
    "## Authors\n"
   ]
  },
  {
   "cell_type": "markdown",
   "metadata": {},
   "source": [
    "<a href=\"https://www.linkedin.com/in/yan-luo-96288783/\">Yan Luo</a>\n"
   ]
  },
  {
   "cell_type": "markdown",
   "metadata": {},
   "source": [
    "<a href=\"https://www.linkedin.com/in/nayefaboutayoun/\">Nayef Abou Tayoun</a>\n"
   ]
  },
  {
   "cell_type": "markdown",
   "metadata": {},
   "source": [
    "<!--\n",
    "## Change Log\n",
    "-->\n"
   ]
  },
  {
   "cell_type": "markdown",
   "metadata": {},
   "source": [
    "<!--\n",
    "| Date (YYYY-MM-DD) | Version | Changed By | Change Description      |\n",
    "| ----------------- | ------- | ---------- | ----------------------- |\n",
    "| 2021-06-09        | 1.0     | Yan Luo    | Tasks updates           |\n",
    "| 2020-11-10        | 1.0     | Nayef      | Created the initial version |\n",
    "-->\n"
   ]
  },
  {
   "cell_type": "markdown",
   "metadata": {},
   "source": [
    "Copyright © 2021 IBM Corporation. All rights reserved.\n"
   ]
  }
 ],
 "metadata": {
  "kernelspec": {
   "display_name": "Python",
   "language": "python",
   "name": "conda-env-python-py"
  },
  "language_info": {
   "codemirror_mode": {
    "name": "ipython",
    "version": 3
   },
   "file_extension": ".py",
   "mimetype": "text/x-python",
   "name": "python",
   "nbconvert_exporter": "python",
   "pygments_lexer": "ipython3",
   "version": "3.7.12"
  },
  "prev_pub_hash": "64f1b0aac408997185c47caba18730e0028b75e7934a0e5bf0ae73c5cb7ba677"
 },
 "nbformat": 4,
 "nbformat_minor": 4
}
